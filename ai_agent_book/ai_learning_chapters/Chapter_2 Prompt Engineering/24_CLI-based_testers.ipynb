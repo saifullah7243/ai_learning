{
 "cells": [
  {
   "cell_type": "code",
   "execution_count": null,
   "id": "63d1df39",
   "metadata": {},
   "outputs": [
    {
     "data": {
      "text/markdown": [
       "✅ **OpenAI client initialized successfully**"
      ],
      "text/plain": [
       "<IPython.core.display.Markdown object>"
      ]
     },
     "metadata": {},
     "output_type": "display_data"
    }
   ],
   "source": [
    "# Ensure nested async loops work in Jupyter\n",
    "import nest_asyncio\n",
    "nest_asyncio.apply()\n",
    "\n",
    "# Load environment variables from .env\n",
    "from dotenv import load_dotenv\n",
    "load_dotenv()\n",
    "\n",
    "# Imports\n",
    "import os\n",
    "import sys\n",
    "import time\n",
    "from typing import List, Dict, Any\n",
    "from IPython.display import display, Markdown\n",
    "\n",
    "\n",
    "notebook_path = os.getcwd()\n",
    "root_path = os.path.abspath(os.path.join(notebook_path, '..', '..', '..'))\n",
    "\n",
    "# Add root path to system path so Python can find `llm/config.py`\n",
    "sys.path.append(root_path)\n",
    "\n",
    "# Now import the OpenAI key from your config\n",
    "try:\n",
    "    from llm.config import openai_key\n",
    "except ImportError:\n",
    "    display(Markdown(\"**❌ Error:** Could not import `openai_key` from `llm/config.py`\"))\n",
    "    raise\n",
    "\n",
    "# Initialize OpenAI client\n",
    "from openai import OpenAI\n",
    "client = OpenAI(api_key=openai_key)\n",
    "\n",
    "# Confirmation display\n",
    "display(Markdown(\"✅ **OpenAI client initialized successfully**\"))\n"
   ]
  },
  {
   "cell_type": "code",
   "execution_count": 2,
   "id": "7f3d33d1",
   "metadata": {},
   "outputs": [],
   "source": [
    "import ipywidgets as widgets \n",
    "from IPython.display import display, Markdown"
   ]
  },
  {
   "cell_type": "code",
   "execution_count": 3,
   "id": "0970e01c",
   "metadata": {},
   "outputs": [],
   "source": [
    "sample_text = (\n",
    "    \"The new product launch exceeded expectations, with sales reaching 150% of the Q1 target. Key contributing factors included the revamped marketing strategy and strong positive customer reviews. However, supply chain bottlenecks led to minor delays for 10% of orders, an issue now being addressed by diversifying suppliers. The financial outlook for Q2 remains robust.\"\n",
    ")\n",
    "\n",
    "prompts = {\n",
    "    \"Summarizer_Simple\": \"Summarize this text: {text_input}\",\n",
    "    \"Summarizer_Executive\": (\n",
    "        \"You are an expert summarizer for busy executives. Summarize this for quick understanding, focusing on key decisions and outcomes: {text_input}\"\n",
    "    )\n",
    "}\n"
   ]
  },
  {
   "cell_type": "code",
   "execution_count": 4,
   "id": "43681cc4",
   "metadata": {},
   "outputs": [],
   "source": [
    "if \"prompt_selector\" not in globals():\n",
    "    prompt_selector = widgets.Dropdown(options=[\"Summarizer_Simple\", \"Summarizer_Executive\"], description='Prompt:')\n",
    "    temp_slider = widgets.FloatSlider(value=0.5, min=0.0, max=1.0, step=0.1, description='Temp:')\n",
    "    run_button = widgets.Button(description=\"Run Prompt\")\n",
    "    output_area = widgets.Output()"
   ]
  },
  {
   "cell_type": "code",
   "execution_count": 5,
   "id": "1066b27e",
   "metadata": {},
   "outputs": [],
   "source": [
    "def run_selected_prompt_sync(b):\n",
    "    output_area.clear_output(wait=True)\n",
    "    selected_prompt_name = prompt_selector.value\n",
    "    temperature = temp_slider.value\n",
    "    template = prompts[selected_prompt_name]\n",
    "    prompt = template.format(text_input=sample_text)\n",
    "\n",
    "    # Use append_display_data inside output_area context\n",
    "    with output_area:\n",
    "        output_area.append_display_data(Markdown(f\"**Running '{selected_prompt_name}' with temp={temperature}...**\"))\n",
    "        try:\n",
    "            start = time.perf_counter()\n",
    "            response = client.chat.completions.create(\n",
    "                model=\"gpt-4o-mini\",\n",
    "                messages=[{\"role\": \"user\", \"content\": prompt}],\n",
    "                temperature=temperature,\n",
    "            )\n",
    "            latency = time.perf_counter() - start\n",
    "            content = response.choices[0].message.content\n",
    "\n",
    "            output_area.append_display_data(Markdown(f\"**Response:**\\n```\\n{content}\\n```\"))\n",
    "            output_area.append_display_data(Markdown(f\"*Latency: {latency:.2f}s, Tokens: {response.usage.total_tokens}*\"))\n",
    "\n",
    "        except Exception as e:\n",
    "            output_area.append_display_data(Markdown(f\"**Error:** {e}\"))\n"
   ]
  },
  {
   "cell_type": "code",
   "execution_count": 6,
   "id": "d44cc07c",
   "metadata": {},
   "outputs": [
    {
     "data": {
      "application/vnd.jupyter.widget-view+json": {
       "model_id": "f0e905be23e746f58b8fee85e0986132",
       "version_major": 2,
       "version_minor": 0
      },
      "text/plain": [
       "Dropdown(description='Prompt:', options=('Summarizer_Simple', 'Summarizer_Executive'), value='Summarizer_Simpl…"
      ]
     },
     "metadata": {},
     "output_type": "display_data"
    },
    {
     "data": {
      "application/vnd.jupyter.widget-view+json": {
       "model_id": "bc7c11db755744b4be8b03999fd4885d",
       "version_major": 2,
       "version_minor": 0
      },
      "text/plain": [
       "FloatSlider(value=0.5, description='Temp:', max=1.0)"
      ]
     },
     "metadata": {},
     "output_type": "display_data"
    },
    {
     "data": {
      "application/vnd.jupyter.widget-view+json": {
       "model_id": "77f369d18cff4b17854fbe811212b299",
       "version_major": 2,
       "version_minor": 0
      },
      "text/plain": [
       "Button(description='Run Prompt', style=ButtonStyle())"
      ]
     },
     "metadata": {},
     "output_type": "display_data"
    },
    {
     "data": {
      "application/vnd.jupyter.widget-view+json": {
       "model_id": "5046f14e7ce048258b0a7f8795e4d44c",
       "version_major": 2,
       "version_minor": 0
      },
      "text/plain": [
       "Output()"
      ]
     },
     "metadata": {},
     "output_type": "display_data"
    }
   ],
   "source": [
    "# Unbind previous click handlers to avoid duplicate executions\n",
    "run_button._click_handlers.callbacks = []\n",
    "\n",
    "# Re-bind the button to the handler\n",
    "run_button.on_click(run_selected_prompt_sync)\n",
    "\n",
    "# Display widgets\n",
    "display(prompt_selector, temp_slider, run_button, output_area)\n"
   ]
  }
 ],
 "metadata": {
  "kernelspec": {
   "display_name": "aienv",
   "language": "python",
   "name": "python3"
  },
  "language_info": {
   "codemirror_mode": {
    "name": "ipython",
    "version": 3
   },
   "file_extension": ".py",
   "mimetype": "text/x-python",
   "name": "python",
   "nbconvert_exporter": "python",
   "pygments_lexer": "ipython3",
   "version": "3.13.5"
  }
 },
 "nbformat": 4,
 "nbformat_minor": 5
}
