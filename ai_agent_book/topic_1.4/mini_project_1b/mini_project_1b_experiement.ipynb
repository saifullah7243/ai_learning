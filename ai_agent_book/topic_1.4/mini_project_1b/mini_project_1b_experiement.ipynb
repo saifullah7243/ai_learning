{
  "nbformat": 4,
  "nbformat_minor": 0,
  "metadata": {
    "colab": {
      "provenance": []
    },
    "kernelspec": {
      "name": "python3",
      "display_name": "Python 3"
    },
    "language_info": {
      "name": "python"
    }
  },
  "cells": [
    {
      "cell_type": "markdown",
      "source": [
        "#### Part -1 - Setup and Corpus Definition"
      ],
      "metadata": {
        "id": "giygNeQbhhG2"
      }
    },
    {
      "cell_type": "code",
      "execution_count": 11,
      "metadata": {
        "id": "1ADIzJyNg1PB"
      },
      "outputs": [],
      "source": [
        "# Import libraries\n",
        "import numpy as np\n",
        "from sentence_transformers import SentenceTransformer\n",
        "from sklearn.metrics.pairwise import cosine_similarity"
      ]
    },
    {
      "cell_type": "code",
      "source": [
        "### Data\n",
        "corpus = [\n",
        "\"Our company offers a comprehensive healthcare plan for all full-time employees.\",\n",
        "\"Employees are entitled to 20 paid vacation days per year.\",\n",
        "\"The new software update includes enhanced security features and a revamped user interface.\",\n",
        "\"Quarterly financial reports indicate a 15% growth in revenue.\",\n",
        "\"For technical support, please email support@examplecorp.com or call our helpline.\",\n",
        "\"The healthcare benefits package covers medical, dental, and vision insurance.\", # Similar to sentence 1\n",
        "\"To request time off, submit a form through the employee portal at least two weeks in advance.\", # Related to sentence 2\n",
        "\"Security protocols have been upgraded across all company platforms following the recent patch.\", # Similar to sentence 3\n",
        "\"Our customer service team is available 24/7 to assist with any issues.\" # Related to sentence 5\n",
        "]"
      ],
      "metadata": {
        "id": "NNtayJpJg5tR"
      },
      "execution_count": 12,
      "outputs": []
    },
    {
      "cell_type": "code",
      "source": [
        "query = \"What are the healthcare benefits?\""
      ],
      "metadata": {
        "id": "qkCBd928hXJS"
      },
      "execution_count": 13,
      "outputs": []
    },
    {
      "cell_type": "markdown",
      "source": [
        "#### Part - 2 - Embedding Generation"
      ],
      "metadata": {
        "id": "qQAdOPYShpPJ"
      }
    },
    {
      "cell_type": "code",
      "source": [
        "# Load an embedding model:\n",
        "model_name = 'all-MiniLM-L6-v2' # Fast and good for this scale\n",
        "print(f\"Loading embedding model: {model_name}...\")\n",
        "model = SentenceTransformer(model_name)"
      ],
      "metadata": {
        "colab": {
          "base_uri": "https://localhost:8080/"
        },
        "id": "0mTJgYW9hw0s",
        "outputId": "e73f08e8-7bd7-4688-e26a-96f79f48a553"
      },
      "execution_count": 14,
      "outputs": [
        {
          "output_type": "stream",
          "name": "stdout",
          "text": [
            "Loading embedding model: all-MiniLM-L6-v2...\n"
          ]
        }
      ]
    },
    {
      "cell_type": "code",
      "source": [
        "# Embed the corpus and the query:\n",
        "print(\"Embedding corpus...\")\n",
        "corpus_embeddings = model.encode(corpus, convert_to_tensor=False) # Get as NumPy arrays\n",
        "print(\"Embedding query...\")\n",
        "query_embedding = model.encode(query, convert_to_tensor=False)\n"
      ],
      "metadata": {
        "colab": {
          "base_uri": "https://localhost:8080/"
        },
        "id": "isZEcWrPimBR",
        "outputId": "185611a0-8c02-4d1c-de7d-37c8dafcda6d"
      },
      "execution_count": 15,
      "outputs": [
        {
          "output_type": "stream",
          "name": "stdout",
          "text": [
            "Embedding corpus...\n",
            "Embedding query...\n"
          ]
        }
      ]
    },
    {
      "cell_type": "code",
      "source": [
        "print(f\"Corpus embeddings shape: {corpus_embeddings.shape}\") # (num_sentences, embedding_dim)\n",
        "print(f\"Query embedding shape: {query_embedding.shape}\")   # (embedding_dim,) or (1, embedding_dim)"
      ],
      "metadata": {
        "colab": {
          "base_uri": "https://localhost:8080/"
        },
        "id": "EzBlBNHojdYY",
        "outputId": "83243f86-4f12-42da-f16f-b2f608a2755e"
      },
      "execution_count": 16,
      "outputs": [
        {
          "output_type": "stream",
          "name": "stdout",
          "text": [
            "Corpus embeddings shape: (9, 384)\n",
            "Query embedding shape: (384,)\n"
          ]
        }
      ]
    },
    {
      "cell_type": "code",
      "source": [
        "print(f\"Corpus dimension: {corpus_embeddings.ndim}\")\n",
        "print(f\"Query dimension: {query_embedding.ndim}\")"
      ],
      "metadata": {
        "colab": {
          "base_uri": "https://localhost:8080/"
        },
        "id": "MiIlRIpcnsMw",
        "outputId": "a71b8885-7128-4d54-ec7f-b86cd6328a35"
      },
      "execution_count": 22,
      "outputs": [
        {
          "output_type": "stream",
          "name": "stdout",
          "text": [
            "Corpus dimension: 2\n",
            "Query dimension: 1\n"
          ]
        }
      ]
    },
    {
      "cell_type": "markdown",
      "source": [
        "#### Part 3: Similarity Calculation & Retrieval (Brute-Force)"
      ],
      "metadata": {
        "id": "Q1rE-gwIjkou"
      }
    },
    {
      "cell_type": "code",
      "source": [
        "# Calculate cosine similarity between the query embedding and all corpus embeddings.\n",
        "# Reshape query_embedding to 2D if it's 1D for cosine_similarity function\n",
        "if query_embedding.ndim == 1:\n",
        "  query_embedding_2d = query_embedding.reshape(1, -1)\n",
        "else:\n",
        "  query_embedding_2d = query_embedding\n",
        "similarities = cosine_similarity(query_embedding_2d, corpus_embeddings)\n",
        "# similarities is a 2D array, e.g., [[s1, s2, s3, ...]] so we take the first row\n",
        "similarity_scores = similarities[0]"
      ],
      "metadata": {
        "id": "9Tt-glgRjhbc"
      },
      "execution_count": 9,
      "outputs": []
    },
    {
      "cell_type": "code",
      "source": [
        "# Find the top N most similar sentences:\n",
        "top_k = 3\n",
        "# Get indices of top_k scores in descending order\n",
        "# np.argsort returns indices that would sort the array in ascending order.\n",
        "# So we use a negative sign to sort in descending effectively, then take top_k.\n",
        "sorted_indices = np.argsort(-similarity_scores)\n",
        "top_k_indices = sorted_indices[:top_k]\n",
        "print(f\"\\nQuery: \\\"{query}\\\"\")\n",
        "print(f\"\\nTop {top_k} most similar sentences from the corpus:\")\n",
        "for i, index in enumerate(top_k_indices):\n",
        "  print(f\"  {i+1}. \\\"{corpus[index]}\\\" (Score: {similarity_scores[index]:.4f})\")"
      ],
      "metadata": {
        "colab": {
          "base_uri": "https://localhost:8080/"
        },
        "id": "iXGY5XUCj6Eb",
        "outputId": "079571b2-f8e6-48a0-ef3f-68f670bdb184"
      },
      "execution_count": 19,
      "outputs": [
        {
          "output_type": "stream",
          "name": "stdout",
          "text": [
            "\n",
            "Query: \"What are the healthcare benefits?\"\n",
            "\n",
            "Top 3 most similar sentences from the corpus:\n",
            "  1. \"The healthcare benefits package covers medical, dental, and vision insurance.\" (Score: 0.6462)\n",
            "  2. \"Our company offers a comprehensive healthcare plan for all full-time employees.\" (Score: 0.4301)\n",
            "  3. \"The new software update includes enhanced security features and a revamped user interface.\" (Score: 0.2337)\n"
          ]
        }
      ]
    }
  ]
}